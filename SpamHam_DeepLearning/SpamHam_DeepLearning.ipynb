{
 "cells": [
  {
   "cell_type": "code",
   "execution_count": 5,
   "metadata": {},
   "outputs": [
    {
     "name": "stdout",
     "output_type": "stream",
     "text": [
      "2.0.0\n",
      "1.18.1\n"
     ]
    },
    {
     "name": "stderr",
     "output_type": "stream",
     "text": [
      "Using TensorFlow backend.\n"
     ]
    }
   ],
   "source": [
    "import tensorflow as tf\n",
    "from tensorflow import keras\n",
    "import numpy as np\n",
    "import matplotlib.pyplot as plt\n",
    "print(tf.__version__)\n",
    "print(np.__version__)\n",
    "import pandas as pd\n",
    "import numpy as np\n",
    "import matplotlib.pyplot as plt\n",
    "import seaborn as sns\n",
    "from sklearn.model_selection import train_test_split\n",
    "from sklearn.preprocessing import LabelEncoder\n",
    "from keras.models import Model\n",
    "from keras.optimizers import RMSprop\n",
    "from keras.preprocessing.text import Tokenizer\n",
    "from keras.preprocessing import sequence\n",
    "from keras.utils import to_categorical\n",
    "from keras.callbacks import EarlyStopping\n",
    "from nltk import PorterStemmer\n",
    "from nltk import WordNetLemmatizer\n",
    "import re\n",
    "from nltk.tokenize import word_tokenize\n",
    "from nltk import PorterStemmer\n",
    "from nltk import WordNetLemmatizer\n",
    "from nltk.corpus import stopwords\n",
    "%matplotlib inline"
   ]
  },
  {
   "cell_type": "markdown",
   "metadata": {},
   "source": [
    "https://www.kaggle.com/ozlerhakan/spam-or-not-spam-dataset"
   ]
  },
  {
   "cell_type": "markdown",
   "metadata": {},
   "source": [
    "ทำการโหลดดาต้ามาเก็บ"
   ]
  },
  {
   "cell_type": "code",
   "execution_count": 6,
   "metadata": {},
   "outputs": [
    {
     "data": {
      "text/html": [
       "<div>\n",
       "<style scoped>\n",
       "    .dataframe tbody tr th:only-of-type {\n",
       "        vertical-align: middle;\n",
       "    }\n",
       "\n",
       "    .dataframe tbody tr th {\n",
       "        vertical-align: top;\n",
       "    }\n",
       "\n",
       "    .dataframe thead th {\n",
       "        text-align: right;\n",
       "    }\n",
       "</style>\n",
       "<table border=\"1\" class=\"dataframe\">\n",
       "  <thead>\n",
       "    <tr style=\"text-align: right;\">\n",
       "      <th></th>\n",
       "      <th>email</th>\n",
       "      <th>label</th>\n",
       "    </tr>\n",
       "  </thead>\n",
       "  <tbody>\n",
       "    <tr>\n",
       "      <th>0</th>\n",
       "      <td>date wed NUMBER aug NUMBER NUMBER NUMBER NUMB...</td>\n",
       "      <td>0</td>\n",
       "    </tr>\n",
       "    <tr>\n",
       "      <th>1</th>\n",
       "      <td>martin a posted tassos papadopoulos the greek ...</td>\n",
       "      <td>0</td>\n",
       "    </tr>\n",
       "    <tr>\n",
       "      <th>2</th>\n",
       "      <td>man threatens explosion in moscow thursday aug...</td>\n",
       "      <td>0</td>\n",
       "    </tr>\n",
       "    <tr>\n",
       "      <th>3</th>\n",
       "      <td>klez the virus that won t die already the most...</td>\n",
       "      <td>0</td>\n",
       "    </tr>\n",
       "    <tr>\n",
       "      <th>4</th>\n",
       "      <td>in adding cream to spaghetti carbonara which ...</td>\n",
       "      <td>0</td>\n",
       "    </tr>\n",
       "  </tbody>\n",
       "</table>\n",
       "</div>"
      ],
      "text/plain": [
       "                                               email  label\n",
       "0   date wed NUMBER aug NUMBER NUMBER NUMBER NUMB...      0\n",
       "1  martin a posted tassos papadopoulos the greek ...      0\n",
       "2  man threatens explosion in moscow thursday aug...      0\n",
       "3  klez the virus that won t die already the most...      0\n",
       "4   in adding cream to spaghetti carbonara which ...      0"
      ]
     },
     "execution_count": 6,
     "metadata": {},
     "output_type": "execute_result"
    }
   ],
   "source": [
    "data = pd.read_csv('spam_or_not_spam.csv')\n",
    "data.head()"
   ]
  },
  {
   "cell_type": "markdown",
   "metadata": {},
   "source": [
    "จะเห็นได้ว่าข้อมูลของ ham จะมีมากกว่า spam อยู่มาก"
   ]
  },
  {
   "cell_type": "code",
   "execution_count": 7,
   "metadata": {
    "scrolled": false
   },
   "outputs": [
    {
     "data": {
      "text/plain": [
       "Text(0.5, 1.0, 'Number of ham and spam messages')"
      ]
     },
     "execution_count": 7,
     "metadata": {},
     "output_type": "execute_result"
    },
    {
     "data": {
      "image/png": "[encoded data removed]",
      "text/plain": [
       "<Figure size 432x288 with 1 Axes>"
      ]
     },
     "metadata": {
      "needs_background": "light"
     },
     "output_type": "display_data"
    }
   ],
   "source": [
    "sns.countplot(data.label)\n",
    "plt.xlabel('Label')\n",
    "plt.title('Number of ham and spam messages')"
   ]
  },
  {
   "cell_type": "markdown",
   "metadata": {},
   "source": [
    "เรานั้นวิธีการปรับปรุงมากจาก https://www.kaggle.com/shivammehta007/spam-not-spam-classifier-with-pytorch\n",
    "\n",
    "fit_on_texts ทำหน้าที่ แปลงข้อมูล “หลาย ๆ ประโยค” จาก data ให้เป็นคำ ๆ โดยแยกคำด้วย “เว้นวรรค” และกำหนด Index ให้แต่ละคำ (word_index) โดย “เรียงตามความถี่\n",
    "\n",
    "เนื่องจากขั้นตอนที่จะไปแปลงเป็น fit_on_texts มีความผิดพลาดเนื่องจากdata ยังไม่ดีพอ"
   ]
  },
  {
   "cell_type": "code",
   "execution_count": 8,
   "metadata": {},
   "outputs": [
    {
     "data": {
      "text/html": [
       "<div>\n",
       "<style scoped>\n",
       "    .dataframe tbody tr th:only-of-type {\n",
       "        vertical-align: middle;\n",
       "    }\n",
       "\n",
       "    .dataframe tbody tr th {\n",
       "        vertical-align: top;\n",
       "    }\n",
       "\n",
       "    .dataframe thead th {\n",
       "        text-align: right;\n",
       "    }\n",
       "</style>\n",
       "<table border=\"1\" class=\"dataframe\">\n",
       "  <thead>\n",
       "    <tr style=\"text-align: right;\">\n",
       "      <th></th>\n",
       "      <th>email</th>\n",
       "      <th>label</th>\n",
       "    </tr>\n",
       "  </thead>\n",
       "  <tbody>\n",
       "    <tr>\n",
       "      <th>0</th>\n",
       "      <td>date wed NUMBER aug NUMBER NUMBER NUMBER NUMB...</td>\n",
       "      <td>1</td>\n",
       "    </tr>\n",
       "    <tr>\n",
       "      <th>1</th>\n",
       "      <td>martin a posted tassos papadopoulos the greek ...</td>\n",
       "      <td>1</td>\n",
       "    </tr>\n",
       "    <tr>\n",
       "      <th>2</th>\n",
       "      <td>man threatens explosion in moscow thursday aug...</td>\n",
       "      <td>1</td>\n",
       "    </tr>\n",
       "    <tr>\n",
       "      <th>3</th>\n",
       "      <td>klez the virus that won t die already the most...</td>\n",
       "      <td>1</td>\n",
       "    </tr>\n",
       "    <tr>\n",
       "      <th>4</th>\n",
       "      <td>in adding cream to spaghetti carbonara which ...</td>\n",
       "      <td>1</td>\n",
       "    </tr>\n",
       "  </tbody>\n",
       "</table>\n",
       "</div>"
      ],
      "text/plain": [
       "                                               email  label\n",
       "0   date wed NUMBER aug NUMBER NUMBER NUMBER NUMB...      1\n",
       "1  martin a posted tassos papadopoulos the greek ...      1\n",
       "2  man threatens explosion in moscow thursday aug...      1\n",
       "3  klez the virus that won t die already the most...      1\n",
       "4   in adding cream to spaghetti carbonara which ...      1"
      ]
     },
     "execution_count": 8,
     "metadata": {},
     "output_type": "execute_result"
    }
   ],
   "source": [
    "data.dropna(inplace=True)\n",
    "change_labels = lambda x: 1 if x==0 else 0\n",
    "data['label'] = data['label'].apply(change_labels)\n",
    "data.head()"
   ]
  },
  {
   "cell_type": "markdown",
   "metadata": {},
   "source": [
    "ทำการเตรียมกระบวนการในการทำสิ่งต่างๆ"
   ]
  },
  {
   "cell_type": "markdown",
   "metadata": {},
   "source": [
    "ปรับข้อมูลให้เหลือแค่ตัวอักษร a-z "
   ]
  },
  {
   "cell_type": "code",
   "execution_count": 9,
   "metadata": {},
   "outputs": [],
   "source": [
    "remove_non_alphabets =lambda x: re.sub(r'[^a-zA-Z]',' ',x)"
   ]
  },
  {
   "cell_type": "markdown",
   "metadata": {},
   "source": [
    "เปลี่ยนข้อมูลให้ตัดเป็นคำๆแล้วใส่ในลิส"
   ]
  },
  {
   "cell_type": "code",
   "execution_count": 10,
   "metadata": {},
   "outputs": [],
   "source": [
    "tokenize = lambda x: word_tokenize(x)"
   ]
  },
  {
   "cell_type": "markdown",
   "metadata": {},
   "source": [
    "เปลี่ยนเป็น ver ช่อง 1 "
   ]
  },
  {
   "cell_type": "code",
   "execution_count": 11,
   "metadata": {},
   "outputs": [],
   "source": [
    "ps = PorterStemmer()\n",
    "stem = lambda w: [ ps.stem(x) for x in w ]"
   ]
  },
  {
   "cell_type": "markdown",
   "metadata": {},
   "source": [
    "เปลี่ยนเป็นคำที่มีความหมายคล้ายกันแต่มีความนิยมในการใช้มากว่า"
   ]
  },
  {
   "cell_type": "code",
   "execution_count": 12,
   "metadata": {},
   "outputs": [],
   "source": [
    "lemmatizer = WordNetLemmatizer()\n",
    "leammtizer = lambda x: [ lemmatizer.lemmatize(word) for word in x ]"
   ]
  },
  {
   "cell_type": "markdown",
   "metadata": {},
   "source": [
    "เอากระบวนการทำงานต่างๆมาใช้"
   ]
  },
  {
   "cell_type": "code",
   "execution_count": 9,
   "metadata": {},
   "outputs": [
    {
     "name": "stdout",
     "output_type": "stream",
     "text": [
      "Processing : [=====] : Completed"
     ]
    },
    {
     "data": {
      "text/html": [
       "<div>\n",
       "<style scoped>\n",
       "    .dataframe tbody tr th:only-of-type {\n",
       "        vertical-align: middle;\n",
       "    }\n",
       "\n",
       "    .dataframe tbody tr th {\n",
       "        vertical-align: top;\n",
       "    }\n",
       "\n",
       "    .dataframe thead th {\n",
       "        text-align: right;\n",
       "    }\n",
       "</style>\n",
       "<table border=\"1\" class=\"dataframe\">\n",
       "  <thead>\n",
       "    <tr style=\"text-align: right;\">\n",
       "      <th></th>\n",
       "      <th>email</th>\n",
       "      <th>label</th>\n",
       "    </tr>\n",
       "  </thead>\n",
       "  <tbody>\n",
       "    <tr>\n",
       "      <th>0</th>\n",
       "      <td>date wed number aug number number number numbe...</td>\n",
       "      <td>1</td>\n",
       "    </tr>\n",
       "    <tr>\n",
       "      <th>1</th>\n",
       "      <td>martin a post tasso papadopoulo the greek scul...</td>\n",
       "      <td>1</td>\n",
       "    </tr>\n",
       "    <tr>\n",
       "      <th>2</th>\n",
       "      <td>man threaten explos in moscow thursday august ...</td>\n",
       "      <td>1</td>\n",
       "    </tr>\n",
       "    <tr>\n",
       "      <th>3</th>\n",
       "      <td>klez the viru that won t die alreadi the most ...</td>\n",
       "      <td>1</td>\n",
       "    </tr>\n",
       "    <tr>\n",
       "      <th>4</th>\n",
       "      <td>in ad cream to spaghetti carbonara which ha th...</td>\n",
       "      <td>1</td>\n",
       "    </tr>\n",
       "  </tbody>\n",
       "</table>\n",
       "</div>"
      ],
      "text/plain": [
       "                                               email  label\n",
       "0  date wed number aug number number number numbe...      1\n",
       "1  martin a post tasso papadopoulo the greek scul...      1\n",
       "2  man threaten explos in moscow thursday august ...      1\n",
       "3  klez the viru that won t die alreadi the most ...      1\n",
       "4  in ad cream to spaghetti carbonara which ha th...      1"
      ]
     },
     "execution_count": 9,
     "metadata": {},
     "output_type": "execute_result"
    }
   ],
   "source": [
    "print('Processing : [=', end='')\n",
    "data['email'] = data['email'].apply(remove_non_alphabets)\n",
    "print('=', end='')\n",
    "data['email'] = data['email'].apply(tokenize) # [ word_tokenize(row) for row in data['email']]\n",
    "print('=', end='')\n",
    "data['email'] = data['email'].apply(stem)\n",
    "print('=', end='')\n",
    "data['email'] = data['email'].apply(leammtizer)\n",
    "print('=', end='')\n",
    "data['email'] = data['email'].apply(lambda x: ' '.join(x))\n",
    "print('] : Completed', end='')\n",
    "data.head()"
   ]
  },
  {
   "cell_type": "code",
   "execution_count": 10,
   "metadata": {},
   "outputs": [],
   "source": [
    "df = data\n",
    "X = df.email\n",
    "Y = df.label\n",
    "le = LabelEncoder()\n",
    "Y = le.fit_transform(Y)\n",
    "Y = Y.reshape(-1,1)"
   ]
  },
  {
   "cell_type": "markdown",
   "metadata": {},
   "source": [
    "สลับค่า 0 กับ 1"
   ]
  },
  {
   "cell_type": "code",
   "execution_count": 11,
   "metadata": {},
   "outputs": [],
   "source": [
    "for i in range(len(Y)):\n",
    "    if Y[i]==0:\n",
    "        Y[i]=1\n",
    "    elif Y[i]==1:\n",
    "        Y[i]=0"
   ]
  },
  {
   "cell_type": "code",
   "execution_count": 20,
   "metadata": {},
   "outputs": [
    {
     "data": {
      "text/plain": [
       "'man threaten explos in moscow thursday august number number number number pm moscow ap secur offic on thursday seiz an unidentifi man who said he wa arm with explos and threaten to blow up hi truck in front of russia s feder secur servic headquart in moscow ntv televis report the offic seiz an automat rifl the man wa carri then the man got out of the truck and wa taken into custodi ntv said no other detail were immedi avail the man had demand talk with high govern offici the interfax and itar ta news agenc said ekho moskvi radio report that he want to talk with russian presid vladimir putin polic and secur forc rush to the secur servic build within block of the kremlin red squar and the bolshoi ballet and surround the man who claim to have one and a half ton of explos the news agenc said negoti continu for about one and a half hour outsid the build itar ta and interfax report cite wit the man later drove away from the build under polic escort and drove to a street near moscow s olymp penta hotel where author held further negoti with him the moscow polic press servic said the move appear to be an attempt by secur servic to get him to a more secur locat yahoo group sponsor number dvd free s p join now url to unsubscrib from thi group send an email to forteana unsubscrib url your use of yahoo group is subject to url'"
      ]
     },
     "execution_count": 20,
     "metadata": {},
     "output_type": "execute_result"
    }
   ],
   "source": [
    "X[2]"
   ]
  },
  {
   "cell_type": "code",
   "execution_count": 15,
   "metadata": {},
   "outputs": [],
   "source": [
    "X_train,X_test,Y_train,Y_test = train_test_split(X,Y,test_size=0.20)"
   ]
  },
  {
   "cell_type": "markdown",
   "metadata": {},
   "source": [
    "กำหนดจำนวนคำทั้งหมดที่จะใช้ในการเรียนรู้ max_words เลือกจากคำที่มีความถึ่สูงสุด 2000 อันดับแรก จำนวนคำที่จะใส่เข้าไปในแต่ละชุดว่ามีชุดละกี่คำ max_len  sหลังจากนั้นนำไปแปลให้อยู่ในรูปแบบ เมตริก sequences_matrix"
   ]
  },
  {
   "cell_type": "code",
   "execution_count": 16,
   "metadata": {},
   "outputs": [],
   "source": [
    "max_words = 2000\n",
    "max_len = 200\n",
    "tok = Tokenizer(num_words=max_words)\n",
    "tok.fit_on_texts(X_train)\n",
    "sequences = tok.texts_to_sequences(X_train)\n",
    "sequences_matrix = sequence.pad_sequences(sequences,maxlen=max_len)"
   ]
  },
  {
   "cell_type": "code",
   "execution_count": 19,
   "metadata": {},
   "outputs": [
    {
     "data": {
      "text/plain": [
       "2399"
      ]
     },
     "execution_count": 19,
     "metadata": {},
     "output_type": "execute_result"
    }
   ],
   "source": [
    "len(sequences_matrix)"
   ]
  },
  {
   "cell_type": "markdown",
   "metadata": {},
   "source": [
    "ใน layers แรกเราจะกำหนดขนาดของข้อมูลในแต่ละชุด\n",
    "\n",
    "keras.layers.Embedding ทำการให้layer นี้หารูปแบบความสัมพันธ์ว่าแต่ละคำมีลักษณะอย่างไงโดยที่เราจะไม่รู้ภายในเราจึงกำหนดให้มี 60 ฟีเจอร์ เนื่องจากในงานนี้อีก model ที่เป็นตัวอย่าง model นี้ใช้ 50 แต่อันนั้นดาต้าที่ใช้มีคำมีน้อยเราจึงเพิ่มมากอีก 10 เพื่อให้มันทำการแยกลักษณะได้ชัดเจนยิ่งขึ้น\n",
    "\n",
    "keras.layers.LSTM หรือ Long Short-Term Memory เราจะให้มีสัก 64 เนื่องจากเราไม่อยากให้มีมากเกินเพราะไม่จำเป็นเนื่องจากข้อมูลที่เราให้มาในหนึ่งชุดเราจึงใช้เพียงเท่านี้ก็พอ\n",
    "\n",
    "keras.layers.Dropout(0.5), \n",
    "keras.layers.Dense(64,activation=tf.nn.relu), เนื่องจากเราไม่ต้องการใ้ห้มันเกิดการ overfit เราจึงใส่ Dropout(0.5) หรือทำการสุ่มปิดโหนด 50% นั้นหมายความว่าโหนดจะถูกปิดไปเหลือ 32 ซึ่งแปลว่าจะมีบางรอบที่ค่าในโหนดที่ถูกปิดจะไม่มีการปรับแล้ว(ทำมัยไม่ใช้เป็น 32เพราะอย่างไรเราก็จะปิดครึ่งนึง) เพราะเราใช้ 32 มันจะมีน้อยเกินไปที่จะเกินการเรียนรู้และการที่มันถูกปิดครึ่งนึงไม่ได้หมายความว่าประสิทธิภาพจากลดลงครึ่งนึง และเรายีงใช้ฟังชัน relu เพื่อลดการมองระละเอียดที่มากเกินไปกล่าวคือลักษณะมนุษย์หากมีบางสิ่งบางอย่างที่เราสัมผัสได้น้อยมากร่างกายจะตัดสิ่งนั้นออกไปโดยที่เราไม่รูตัวเช่นการหายใจทำให้เกิดเสียงเราแต่มะน้อยมากเราจึงไม่รับรู้การได้ยินเสียงหายใจ และในทางคอมพิวเตอร์ได้ทำการเปลี่ยนฟังชั่นให้การเป็นรูปแบบเส้นตรง\n",
    "\n",
    "keras.layers.Dropout(0.4),\n",
    "keras.layers.Dense(32,activation=tf.nn.relu), เกิดจากที่ว่าหากเราจริงให้มีแค่ 64 ยังไม่มากพอเราจึงขอเพิ่มเป็น 32 เพื่อให้มันเกิดการวิเคราะห์ที่มากขึ้นและใส่ Dropout(0.4) หรือ 40%  \n",
    "\n",
    "\n",
    "keras.layers.Dense(1,activation=tf.nn.sigmoid) ในชั้นสุดท้ายเราจะเลือกให้เป็น 1 เพราะมีคำตอบแค่เป็นหรือไม่เป็น ham หรือ spam และยังให้ activation=tf.nn.sigmoid เราเลือกเป็น sigmoid เนื่องจาก Output ของ Sigmoid Function มีค่าระหว่าง 0 – 1 จึงเหมาะที่จะถูกใช้ในงานที่ต้องการ Output เป็นความน่าจะเป็น (Probability) หรือใช้เป็น Output ว่า 1=Yes, 0=No\n",
    "เราใช้ binary_crossentropy เพราะเราทำงานแยกประเภทแค่ 2 class \n",
    "\n",
    "เราจะใช้ optimizer เป็น RMSprop วิธีนี้จะเก็บค่าเกรเดียน ของครั้งก่อนนำมาใช้ในรอบการเรียนรู้ปัจจุบัน และนำไปปรับปรุงอัตราส่วนการเรียนรู้่ โดยมีการใช่ค่าความคลาดเคลื่อนกำลังสองเฉลี่ย (Mean Square Error)สำหรับเก็บค่าอัตราการเรียนรู้"
   ]
  },
  {
   "cell_type": "code",
   "execution_count": 179,
   "metadata": {
    "scrolled": true
   },
   "outputs": [
    {
     "name": "stdout",
     "output_type": "stream",
     "text": [
      "Model: \"sequential_12\"\n",
      "_________________________________________________________________\n",
      "Layer (type)                 Output Shape              Param #   \n",
      "=================================================================\n",
      "embedding_12 (Embedding)     (None, 200, 60)           120000    \n",
      "_________________________________________________________________\n",
      "lstm_12 (LSTM)               (None, 64)                32000     \n",
      "_________________________________________________________________\n",
      "dropout_36 (Dropout)         (None, 64)                0         \n",
      "_________________________________________________________________\n",
      "dense_36 (Dense)             (None, 64)                4160      \n",
      "_________________________________________________________________\n",
      "dropout_37 (Dropout)         (None, 64)                0         \n",
      "_________________________________________________________________\n",
      "dense_37 (Dense)             (None, 32)                2080      \n",
      "_________________________________________________________________\n",
      "dropout_38 (Dropout)         (None, 32)                0         \n",
      "_________________________________________________________________\n",
      "dense_38 (Dense)             (None, 1)                 33        \n",
      "=================================================================\n",
      "Total params: 158,273\n",
      "Trainable params: 158,273\n",
      "Non-trainable params: 0\n",
      "_________________________________________________________________\n"
     ]
    }
   ],
   "source": [
    "model = keras.Sequential([\n",
    "  \n",
    "\n",
    "\n",
    "keras.layers.Input(name='inputs',shape=[max_len]),\n",
    "    \n",
    "keras.layers.Embedding(max_words,60,input_length=max_len),\n",
    "keras.layers.LSTM(64),\n",
    "\n",
    "keras.layers.Dropout(0.5),\n",
    "\n",
    "keras.layers.Dense(64,activation=tf.nn.relu),\n",
    "    keras.layers.Dropout(0.4),\n",
    "    keras.layers.Dense(32,activation=tf.nn.relu),\n",
    "keras.layers.Dropout(0.6),\n",
    "keras.layers.Dense(1,activation=tf.nn.sigmoid)\n",
    "\n",
    "])\n",
    "model.compile(loss='binary_crossentropy',optimizer=keras.optimizers.RMSprop(learning_rate=0.001, rho=0.9),metrics=['accuracy'])\n",
    "model.summary()"
   ]
  },
  {
   "cell_type": "markdown",
   "metadata": {},
   "source": [
    "เราจะทำการฝึก model เราแบ่ง 20% จากตัวฝึกเป็นตัวทดสอบเราย่อยกลุ่มให้มันทำงานพร้อมกัน 16 กลุ่มการทำงานเนื่องจากเราต้องการเซ็ตค่ากลุ่มย่อยการทำงานซึ่งเดิมทีหากเราไม่ใส่อะไรให้เป็นค่าเริ่มจะเท่ากับ 32 มันจะมีผลคือทุกครั้งที่ทำครบ 32 เราจะเริ่มปรับค่าในโหนดซึ่งจำนวนครั้งการปรับมีน้อยไปเราจึงอาจจะต้องใช้พวก learning rate มากจัดการแต่หากไม่พอเราต้องยอมให้การทำงานช้าขึ้นโดยการลดกลุ่มย่อย และเราได้ทำการสั้งให้ฝึก 20 epochs และใช้ค่า val_loss มาเป็นตัวบอกว่าควรจะหยุดหรือไม่เช่นหากไม่มีการปรับค่าที่ดีขึ้นเกินเท่านี้หรือค่ากลับแย่ลงเราจะทำการหยุดเหตุที่เราเลือกที่จะดูค่า loss เพราะหาดูแต่ความแม่นยำเราอาจจะได้เยอะเพราะตัวอย่างของสอง class มีปริมาณที่่ต่างกันมากหากมีนตอบถูกของ class ที่มีปริมาณมาแต่ดันตอบผิด class ที่มีปริมาณน้อยหมดเลย ก็จะยังได้ค่าที่ดีกล่าวคือยิ่งค่าแปรปรวนหรือส่นเบียงเบนยิ่งน้อยยิ่งดีนั้นหมายความว่าเรายิ่งได้คำตอบที่ใกล้เคียงเราจึงเลือกดูค่า loss ของตัวทดสอบ"
   ]
  },
  {
   "cell_type": "code",
   "execution_count": 180,
   "metadata": {},
   "outputs": [
    {
     "name": "stdout",
     "output_type": "stream",
     "text": [
      "Train on 1919 samples, validate on 480 samples\n",
      "Epoch 1/20\n",
      "1919/1919 [==============================] - 4s 2ms/sample - loss: 0.4287 - accuracy: 0.8390 - val_loss: 0.1365 - val_accuracy: 0.9667\n",
      "Epoch 2/20\n",
      "1919/1919 [==============================] - 3s 1ms/sample - loss: 0.1141 - accuracy: 0.9729 - val_loss: 0.0516 - val_accuracy: 0.9771\n",
      "Epoch 3/20\n",
      "1919/1919 [==============================] - 3s 1ms/sample - loss: 0.0490 - accuracy: 0.9885 - val_loss: 0.0350 - val_accuracy: 0.9875\n",
      "Epoch 4/20\n",
      "1919/1919 [==============================] - 3s 1ms/sample - loss: 0.0710 - accuracy: 0.9911 - val_loss: 0.0489 - val_accuracy: 0.9875\n"
     ]
    }
   ],
   "source": [
    "h =  model.fit(sequences_matrix,Y_train,batch_size=16,epochs=20,\n",
    "          validation_split=0.2,callbacks=[EarlyStopping(monitor='val_loss',min_delta=0.0001)])"
   ]
  },
  {
   "cell_type": "markdown",
   "metadata": {},
   "source": [
    "เราจะเห็นว่าค่า val_accuracy ของ test จะทำได้ใกล้เคียง accuracy ของ train ไม่เกิดปัญหา overfit"
   ]
  },
  {
   "cell_type": "code",
   "execution_count": 181,
   "metadata": {},
   "outputs": [
    {
     "data": {
      "image/png": "[encoded data removed]",
      "text/plain": [
       "<Figure size 432x288 with 1 Axes>"
      ]
     },
     "metadata": {
      "needs_background": "light"
     },
     "output_type": "display_data"
    }
   ],
   "source": [
    "import matplotlib.pyplot as plt\n",
    "plt.plot(h.history['loss'])\n",
    "plt.plot(h.history['val_loss'])\n",
    "plt.title('model loss')\n",
    "plt.ylabel('loss')\n",
    "plt.xlabel('epoch')\n",
    "plt.legend(['train', 'test'], loc='upper left')\n",
    "plt.show()"
   ]
  },
  {
   "cell_type": "markdown",
   "metadata": {},
   "source": [
    "เราจะเห็นว่าค่า val_accuracy ของ test จะทำได้ใกล้เคียง accuracy ของ train ไม่เกิดปัญหา overfit"
   ]
  },
  {
   "cell_type": "code",
   "execution_count": 182,
   "metadata": {},
   "outputs": [
    {
     "data": {
      "image/png": "[encoded data removed]",
      "text/plain": [
       "<Figure size 432x288 with 1 Axes>"
      ]
     },
     "metadata": {
      "needs_background": "light"
     },
     "output_type": "display_data"
    }
   ],
   "source": [
    "plt.plot(h.history['accuracy'])\n",
    "plt.plot(h.history['val_accuracy'])\n",
    "plt.title('model accuracy')\n",
    "plt.ylabel('accuracy')\n",
    "plt.xlabel('epoch')\n",
    "plt.legend(['train', 'test'], loc='upper left')\n",
    "plt.show()"
   ]
  },
  {
   "cell_type": "markdown",
   "metadata": {},
   "source": [
    "หลังจากนั้นนำข้อมูลที่เราแยกไว้สำหรับการทดสอบนำมาใช้"
   ]
  },
  {
   "cell_type": "code",
   "execution_count": 183,
   "metadata": {},
   "outputs": [],
   "source": [
    "test_sequences = tok.texts_to_sequences(X_test)\n",
    "test_sequences_matrix = sequence.pad_sequences(test_sequences,maxlen=max_len)"
   ]
  },
  {
   "cell_type": "markdown",
   "metadata": {},
   "source": [
    "จากนั้นนำมาหา CONFUSION MATRIX เราจะให้ 1 เป้น Positive และ 0 เป็น Negative กล่าวคือให้ spam เป็น Positive และ ham เป็น Negative <br />\n",
    "spam มี  98 <br />\n",
    "ham มี  502<br />\n",
    "เป็น spam แล้วตอบถูก :  94<br />\n",
    "เป็น spam แล้วตอบว่าเป็น ham :  4<br />\n",
    "เป็น ham แล้วตอบถูก :  501<br />\n",
    "เป็น ham แล้วตอบว่าเป็น sham :  1<br />\n",
    "เราจะได้ค่า Accuracy ที่สูงเนื่องจาก ham มีปริมาณที่มากกว่าและยังตอบถูกมากว่า spam <br />\n",
    "Accuracy รวมการตอบที่ถูกทั้งหมดมาคิดกับปริมาณข้อมูลทั้งหมด<br />\n",
    "Accuracy (ความถูกต้อง) = (TPs + TNs) / (TPs+TNs+FPs + FNs)<br />\n",
    "Precision คือการคำนวณเทียบกับคำตอบที่ผิดข้างเคียง ว่า spam ถูกมากน้อยแค่ไหน<br />\n",
    "Precision = tp / (tp + fp)<br />\n",
    "Recall คือความถูกต้องของการทำนายว่าจะเป็น “spam” เทียบกับ จำนวนครั้งของเหตุการณ์ทั้งทำนาย และ เกิดขึ้นว่า “เป็นspam” กล่าวคือ นำผลที่ตอบว่า spam แล้วถูกหารกับผลที่ตอบว่า spam ทั้งหมดรวมกัน<br />\n",
    "F1-Score เป็นค่าเฉลี่ยแบบ harmonic mean ระหว่าง precision และ recall จุดประสงค์ของการสร้าง F1 ขึ้นมา คือ เพื่อเป็น single metric ที่วัดความสามารถของโมเดล\n",
    "F1 = 2 x (Precision x Recall)/(Precision + Recall)\n"
   ]
  },
  {
   "cell_type": "code",
   "execution_count": 189,
   "metadata": {},
   "outputs": [
    {
     "name": "stdout",
     "output_type": "stream",
     "text": [
      "เป็น spam แล้วตอบถูก :  94\n",
      "เป็น spam แล้วตอบว่าเป็น ham :  4\n",
      "เป็น ham แล้วตอบถูก :  501\n",
      "เป็น ham แล้วตอบว่าเป็น sham :  1\n",
      "CONFUSION MATRIX ------------------\n",
      "[[501   4]\n",
      " [  1  94]]\n",
      "\n",
      "TEST METRICS ----------------------\n",
      "Accuracy: 99.16666666666667%\n",
      "Precision: 95.91836734693877%\n",
      "Recall: 98.94736842105263%\n",
      "F1-score: 97.40932642487046\n",
      "\n",
      "TRAIN METRIC ----------------------\n",
      "Train acc: 99.11\n"
     ]
    }
   ],
   "source": [
    "from sklearn.metrics import accuracy_score, confusion_matrix\n",
    "\n",
    "preds = model.predict(test_sequences_matrix)\n",
    "\n",
    "acc = accuracy_score(Y_test, np.round(preds))*100\n",
    "cm = confusion_matrix(Y_test, np.round(preds)) \n",
    "tn, fp, fn, tp = cm.ravel()\n",
    "print('เป็น spam แล้วตอบถูก : ',tp)\n",
    "print('เป็น spam แล้วตอบว่าเป็น ham : ',fp)\n",
    "print('เป็น ham แล้วตอบถูก : ',tn)\n",
    "print('เป็น ham แล้วตอบว่าเป็น sham : ',fn)\n",
    "\n",
    "print('CONFUSION MATRIX ------------------')\n",
    "print(cm)\n",
    "\n",
    "print('\\nTEST METRICS ----------------------')\n",
    "precision = tp/(tp+fp)*100\n",
    "recall = tp/(tp+fn)*100\n",
    "print('Accuracy: {}%'.format(acc))\n",
    "print('Precision: {}%'.format(precision))\n",
    "print('Recall: {}%'.format(recall))\n",
    "print('F1-score: {}'.format(2*precision*recall/(precision+recall)))\n",
    "\n",
    "print('\\nTRAIN METRIC ----------------------')\n",
    "print('Train acc: {}'.format(np.round((h.history['accuracy'][-1])*100, 2)))"
   ]
  },
  {
   "cell_type": "markdown",
   "metadata": {},
   "source": [
    "หลังจากนั้นเราก็ประเมินผลโมเดล\n",
    "ค่า loss ได้ 2.4% เป็นค่าที่ค่อนข้างดี \n",
    "ค่า Accuracy ได้ 99.2% เป็นค่าที่ดี\n",
    "แต่ถ้าเราสังเกตุดูดีดีถ้าเทียบกับอีก data นึงจะเห็นได้ว่าการตอบผลของ spam มีความถูกต้องน้อยกว่า"
   ]
  },
  {
   "cell_type": "code",
   "execution_count": 190,
   "metadata": {},
   "outputs": [
    {
     "name": "stdout",
     "output_type": "stream",
     "text": [
      "600/1 [================================================================================================================================================================================================================================================================================================================================================================================================================================================================================================================================================================================================================================================================================================================================================================================================================================================================================================================================================================================================================================================================================================================================================================================================================================================================================================================================================================================================================================================================================================================================================================================================================================================================================================================================================================================================================================================================================================================================================================================================================================================================================================================================================================================================================================================================================================================================================================================================================================================================================================================================================================================================================================================================================================================================================================================================================================================================================================================================================================================================================================================================================================================================================================================================================================================================================================================================================================================================================================================================================================================================================================================================================================================================================================================================================================================================================================================================================================================================================================================================================================================================================================================================================================================================================================================================================================================================================================================================================================================================================================================================================================================================================================================================================================================================================================================================================================================================================================================================================================================================================================================================================================================================================================================================================================================================================================================================================================================================================================================================================================================================================================================================================================================================================================================================================================================================================================================================================================================================================================================================================================================================================================================================================================================================================================================================================================================================================================================================================================================================================================================================================================================================================================================================================================================================================================================================================================================================================================================================================================================================================================================================================================================================================================================================================================================================================================================================================================================================================================================================================================================================================================================================================================================================================================================================================================================================================================================================================================================================================================================================================================================================================================================================================================================================================================================================================================================================================================================================================================================================================================================================================================================================================================================================================================================================================================================================================================================================================================================================================================================================================================================================================================================================================================================================================================================================================================================================================================================================================================================================================================================================================================================================================================================================================================================================================================================================================================================================================================================================================================================================================================================================================================================================================================================================================================================================================================================================================================================================================================================================================================================================================================================================================================================================================================================================================================================================================================================================================================================================================================================================================================================================================================================================================================================================================================================================================================================================================================================================================================================================================================================================================================================================================================================================================================================================================================================================================================================================================================================================================================================================================================================================================================================================================================================================================================================================================================================================================================================================================================================================================================================================================================================================================================================================================================================================================================================================================================================================================================================================================================================================================================================================================================================================================================================================================================================================================================================================================================================================================================================================================================================================================================================================================================================================================================================================================================================================================================================================================================================================================================================================================================================================================================================================================================================================================================================================================================================================================================================================================================================================================================================================================================================================================================================================================================================================================================================================================================================================================================================================================================================================================================================================================================================================================================================================================================================================================================================================================================================================================================================================================================================================================================================================================================================================================================================================================================================================================================================================================================================================================================================================================================================================================================================================================================================================================================================================================================================================================================================================================================================================================================================================================================================================================================================================================================================================================================================================================================================================================================================================================================================================================================================================================================================================================================================================================================================================================================================================================================================================================================================================================================================================================================================================================================================================================================================================================================================================================================================================================================================================================================================================================================================================================================================================================================================================================================================================================================================================================================================================================================================================================================================================================================================================================================================================================================================================================] - 0s 341us/sample - loss: 0.0880 - accuracy: 0.9917\n"
     ]
    }
   ],
   "source": [
    "accr = model.evaluate(test_sequences_matrix,Y_test)"
   ]
  },
  {
   "cell_type": "code",
   "execution_count": 191,
   "metadata": {},
   "outputs": [
    {
     "name": "stdout",
     "output_type": "stream",
     "text": [
      "Test set\n",
      "  Loss: 0.024\n",
      "  Accuracy: 0.992\n"
     ]
    }
   ],
   "source": [
    "print('Test set\\n  Loss: {:0.3f}\\n  Accuracy: {:0.3f}'.format(accr[0],accr[1]))"
   ]
  }
 ],
 "metadata": {
  "kernelspec": {
   "display_name": "Python 3",
   "language": "python",
   "name": "python3"
  },
  "language_info": {
   "codemirror_mode": {
    "name": "ipython",
    "version": 3
   },
   "file_extension": ".py",
   "mimetype": "text/x-python",
   "name": "python",
   "nbconvert_exporter": "python",
   "pygments_lexer": "ipython3",
   "version": "3.8.5"
  }
 },
 "nbformat": 4,
 "nbformat_minor": 4
}
